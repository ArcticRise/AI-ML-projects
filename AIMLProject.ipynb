{
 "cells": [
  {
   "cell_type": "code",
   "execution_count": 1,
   "id": "9f7469de",
   "metadata": {},
   "outputs": [
    {
     "name": "stdout",
     "output_type": "stream",
     "text": [
      "Requirement already satisfied: scikit-learn in c:\\users\\voxmi\\anaconda3\\lib\\site-packages (1.1.2)\n",
      "Collecting scikit-learn\n",
      "  Downloading scikit_learn-1.2.2-cp39-cp39-win_amd64.whl (8.4 MB)\n",
      "Requirement already satisfied: threadpoolctl>=2.0.0 in c:\\users\\voxmi\\anaconda3\\lib\\site-packages (from scikit-learn) (2.2.0)\n",
      "Collecting joblib>=1.1.1\n",
      "  Downloading joblib-1.2.0-py3-none-any.whl (297 kB)\n",
      "Requirement already satisfied: scipy>=1.3.2 in c:\\users\\voxmi\\anaconda3\\lib\\site-packages (from scikit-learn) (1.7.3)\n",
      "Requirement already satisfied: numpy>=1.17.3 in c:\\users\\voxmi\\anaconda3\\lib\\site-packages (from scikit-learn) (1.21.5)\n",
      "Installing collected packages: joblib, scikit-learn\n",
      "  Attempting uninstall: joblib\n",
      "    Found existing installation: joblib 1.1.0\n",
      "    Uninstalling joblib-1.1.0:\n",
      "      Successfully uninstalled joblib-1.1.0\n",
      "  Attempting uninstall: scikit-learn\n",
      "    Found existing installation: scikit-learn 1.1.2\n",
      "    Uninstalling scikit-learn-1.1.2:\n",
      "      Successfully uninstalled scikit-learn-1.1.2\n",
      "Successfully installed joblib-1.2.0 scikit-learn-1.2.2\n"
     ]
    },
    {
     "name": "stderr",
     "output_type": "stream",
     "text": [
      "ERROR: pip's dependency resolver does not currently take into account all the packages that are installed. This behaviour is the source of the following dependency conflicts.\n",
      "aif360 0.4.0 requires scipy<1.6.0,>=1.2.0, but you have scipy 1.7.3 which is incompatible.\n"
     ]
    },
    {
     "name": "stdout",
     "output_type": "stream",
     "text": [
      "Requirement already satisfied: blackboxauditing in c:\\users\\voxmi\\anaconda3\\lib\\site-packages (0.1.54)\n",
      "Requirement already satisfied: matplotlib in c:\\users\\voxmi\\anaconda3\\lib\\site-packages (from blackboxauditing) (3.5.1)\n",
      "Requirement already satisfied: numpy in c:\\users\\voxmi\\anaconda3\\lib\\site-packages (from blackboxauditing) (1.21.5)\n",
      "Requirement already satisfied: pandas in c:\\users\\voxmi\\anaconda3\\lib\\site-packages (from blackboxauditing) (1.4.2)\n",
      "Requirement already satisfied: networkx in c:\\users\\voxmi\\anaconda3\\lib\\site-packages (from blackboxauditing) (2.7.1)\n",
      "Requirement already satisfied: pillow>=6.2.0 in c:\\users\\voxmi\\anaconda3\\lib\\site-packages (from matplotlib->blackboxauditing) (9.0.1)\n",
      "Requirement already satisfied: fonttools>=4.22.0 in c:\\users\\voxmi\\anaconda3\\lib\\site-packages (from matplotlib->blackboxauditing) (4.25.0)\n",
      "Requirement already satisfied: kiwisolver>=1.0.1 in c:\\users\\voxmi\\anaconda3\\lib\\site-packages (from matplotlib->blackboxauditing) (1.3.2)\n",
      "Requirement already satisfied: python-dateutil>=2.7 in c:\\users\\voxmi\\anaconda3\\lib\\site-packages (from matplotlib->blackboxauditing) (2.8.2)\n",
      "Requirement already satisfied: packaging>=20.0 in c:\\users\\voxmi\\anaconda3\\lib\\site-packages (from matplotlib->blackboxauditing) (21.3)\n",
      "Requirement already satisfied: pyparsing>=2.2.1 in c:\\users\\voxmi\\anaconda3\\lib\\site-packages (from matplotlib->blackboxauditing) (3.0.4)\n",
      "Requirement already satisfied: cycler>=0.10 in c:\\users\\voxmi\\anaconda3\\lib\\site-packages (from matplotlib->blackboxauditing) (0.11.0)\n",
      "Requirement already satisfied: six>=1.5 in c:\\users\\voxmi\\anaconda3\\lib\\site-packages (from python-dateutil>=2.7->matplotlib->blackboxauditing) (1.16.0)\n",
      "Requirement already satisfied: pytz>=2020.1 in c:\\users\\voxmi\\anaconda3\\lib\\site-packages (from pandas->blackboxauditing) (2021.3)\n",
      "Requirement already satisfied: scikit-learn in c:\\users\\voxmi\\anaconda3\\lib\\site-packages (1.2.2)\n",
      "Requirement already satisfied: scipy>=1.3.2 in c:\\users\\voxmi\\anaconda3\\lib\\site-packages (from scikit-learn) (1.7.3)\n",
      "Requirement already satisfied: joblib>=1.1.1 in c:\\users\\voxmi\\anaconda3\\lib\\site-packages (from scikit-learn) (1.2.0)\n",
      "Requirement already satisfied: numpy>=1.17.3 in c:\\users\\voxmi\\anaconda3\\lib\\site-packages (from scikit-learn) (1.21.5)\n",
      "Requirement already satisfied: threadpoolctl>=2.0.0 in c:\\users\\voxmi\\anaconda3\\lib\\site-packages (from scikit-learn) (2.2.0)\n",
      "Note: you may need to restart the kernel to use updated packages.\n",
      "Requirement already satisfied: tensorflow in c:\\users\\voxmi\\anaconda3\\lib\\site-packages (2.9.1)\n",
      "Requirement already satisfied: tensorflow-io-gcs-filesystem>=0.23.1 in c:\\users\\voxmi\\anaconda3\\lib\\site-packages (from tensorflow) (0.26.0)\n",
      "Requirement already satisfied: absl-py>=1.0.0 in c:\\users\\voxmi\\anaconda3\\lib\\site-packages (from tensorflow) (1.2.0)\n",
      "Requirement already satisfied: keras<2.10.0,>=2.9.0rc0 in c:\\users\\voxmi\\anaconda3\\lib\\site-packages (from tensorflow) (2.9.0)\n",
      "Requirement already satisfied: h5py>=2.9.0 in c:\\users\\voxmi\\anaconda3\\lib\\site-packages (from tensorflow) (3.6.0)\n",
      "Requirement already satisfied: wrapt>=1.11.0 in c:\\users\\voxmi\\anaconda3\\lib\\site-packages (from tensorflow) (1.12.1)\n",
      "Requirement already satisfied: keras-preprocessing>=1.1.1 in c:\\users\\voxmi\\anaconda3\\lib\\site-packages (from tensorflow) (1.1.2)\n",
      "Requirement already satisfied: typing-extensions>=3.6.6 in c:\\users\\voxmi\\anaconda3\\lib\\site-packages (from tensorflow) (4.1.1)\n",
      "Requirement already satisfied: google-pasta>=0.1.1 in c:\\users\\voxmi\\anaconda3\\lib\\site-packages (from tensorflow) (0.2.0)\n",
      "Requirement already satisfied: grpcio<2.0,>=1.24.3 in c:\\users\\voxmi\\anaconda3\\lib\\site-packages (from tensorflow) (1.42.0)\n",
      "Requirement already satisfied: tensorflow-estimator<2.10.0,>=2.9.0rc0 in c:\\users\\voxmi\\anaconda3\\lib\\site-packages (from tensorflow) (2.9.0)\n",
      "Requirement already satisfied: numpy>=1.20 in c:\\users\\voxmi\\anaconda3\\lib\\site-packages (from tensorflow) (1.21.5)\n",
      "Requirement already satisfied: opt-einsum>=2.3.2 in c:\\users\\voxmi\\anaconda3\\lib\\site-packages (from tensorflow) (3.3.0)\n",
      "Requirement already satisfied: flatbuffers<2,>=1.12 in c:\\users\\voxmi\\anaconda3\\lib\\site-packages (from tensorflow) (1.12)\n",
      "Requirement already satisfied: packaging in c:\\users\\voxmi\\anaconda3\\lib\\site-packages (from tensorflow) (21.3)\n",
      "Requirement already satisfied: six>=1.12.0 in c:\\users\\voxmi\\anaconda3\\lib\\site-packages (from tensorflow) (1.16.0)\n",
      "Requirement already satisfied: libclang>=13.0.0 in c:\\users\\voxmi\\anaconda3\\lib\\site-packages (from tensorflow) (14.0.1)\n",
      "Requirement already satisfied: protobuf<3.20,>=3.9.2 in c:\\users\\voxmi\\anaconda3\\lib\\site-packages (from tensorflow) (3.19.1)\n",
      "Requirement already satisfied: tensorboard<2.10,>=2.9 in c:\\users\\voxmi\\anaconda3\\lib\\site-packages (from tensorflow) (2.9.1)\n",
      "Requirement already satisfied: termcolor>=1.1.0 in c:\\users\\voxmi\\anaconda3\\lib\\site-packages (from tensorflow) (1.1.0)\n",
      "Requirement already satisfied: astunparse>=1.6.0 in c:\\users\\voxmi\\anaconda3\\lib\\site-packages (from tensorflow) (1.6.3)\n",
      "Requirement already satisfied: setuptools in c:\\users\\voxmi\\anaconda3\\lib\\site-packages (from tensorflow) (61.2.0)\n",
      "Requirement already satisfied: gast<=0.4.0,>=0.2.1 in c:\\users\\voxmi\\anaconda3\\lib\\site-packages (from tensorflow) (0.4.0)\n",
      "Requirement already satisfied: wheel<1.0,>=0.23.0 in c:\\users\\voxmi\\anaconda3\\lib\\site-packages (from astunparse>=1.6.0->tensorflow) (0.37.1)\n",
      "Requirement already satisfied: tensorboard-data-server<0.7.0,>=0.6.0 in c:\\users\\voxmi\\anaconda3\\lib\\site-packages (from tensorboard<2.10,>=2.9->tensorflow) (0.6.1)\n",
      "Requirement already satisfied: tensorboard-plugin-wit>=1.6.0 in c:\\users\\voxmi\\anaconda3\\lib\\site-packages (from tensorboard<2.10,>=2.9->tensorflow) (1.8.1)\n",
      "Requirement already satisfied: markdown>=2.6.8 in c:\\users\\voxmi\\anaconda3\\lib\\site-packages (from tensorboard<2.10,>=2.9->tensorflow) (3.3.4)\n",
      "Requirement already satisfied: werkzeug>=1.0.1 in c:\\users\\voxmi\\anaconda3\\lib\\site-packages (from tensorboard<2.10,>=2.9->tensorflow) (2.0.3)\n",
      "Requirement already satisfied: requests<3,>=2.21.0 in c:\\users\\voxmi\\anaconda3\\lib\\site-packages (from tensorboard<2.10,>=2.9->tensorflow) (2.27.1)\n",
      "Requirement already satisfied: google-auth-oauthlib<0.5,>=0.4.1 in c:\\users\\voxmi\\anaconda3\\lib\\site-packages (from tensorboard<2.10,>=2.9->tensorflow) (0.4.6)\n",
      "Requirement already satisfied: google-auth<3,>=1.6.3 in c:\\users\\voxmi\\anaconda3\\lib\\site-packages (from tensorboard<2.10,>=2.9->tensorflow) (1.33.0)\n",
      "Requirement already satisfied: pyasn1-modules>=0.2.1 in c:\\users\\voxmi\\anaconda3\\lib\\site-packages (from google-auth<3,>=1.6.3->tensorboard<2.10,>=2.9->tensorflow) (0.2.8)\n",
      "Requirement already satisfied: cachetools<5.0,>=2.0.0 in c:\\users\\voxmi\\anaconda3\\lib\\site-packages (from google-auth<3,>=1.6.3->tensorboard<2.10,>=2.9->tensorflow) (4.2.2)\n",
      "Requirement already satisfied: rsa<5,>=3.1.4 in c:\\users\\voxmi\\anaconda3\\lib\\site-packages (from google-auth<3,>=1.6.3->tensorboard<2.10,>=2.9->tensorflow) (4.7.2)\n",
      "Requirement already satisfied: requests-oauthlib>=0.7.0 in c:\\users\\voxmi\\anaconda3\\lib\\site-packages (from google-auth-oauthlib<0.5,>=0.4.1->tensorboard<2.10,>=2.9->tensorflow) (1.3.1)\n",
      "Requirement already satisfied: pyasn1<0.5.0,>=0.4.6 in c:\\users\\voxmi\\anaconda3\\lib\\site-packages (from pyasn1-modules>=0.2.1->google-auth<3,>=1.6.3->tensorboard<2.10,>=2.9->tensorflow) (0.4.8)\n",
      "Requirement already satisfied: urllib3<1.27,>=1.21.1 in c:\\users\\voxmi\\anaconda3\\lib\\site-packages (from requests<3,>=2.21.0->tensorboard<2.10,>=2.9->tensorflow) (1.26.9)\n",
      "Requirement already satisfied: charset-normalizer~=2.0.0 in c:\\users\\voxmi\\anaconda3\\lib\\site-packages (from requests<3,>=2.21.0->tensorboard<2.10,>=2.9->tensorflow) (2.0.4)\n",
      "Requirement already satisfied: certifi>=2017.4.17 in c:\\users\\voxmi\\anaconda3\\lib\\site-packages (from requests<3,>=2.21.0->tensorboard<2.10,>=2.9->tensorflow) (2022.9.24)\n",
      "Requirement already satisfied: idna<4,>=2.5 in c:\\users\\voxmi\\anaconda3\\lib\\site-packages (from requests<3,>=2.21.0->tensorboard<2.10,>=2.9->tensorflow) (3.3)\n",
      "Requirement already satisfied: oauthlib>=3.0.0 in c:\\users\\voxmi\\anaconda3\\lib\\site-packages (from requests-oauthlib>=0.7.0->google-auth-oauthlib<0.5,>=0.4.1->tensorboard<2.10,>=2.9->tensorflow) (3.2.0)\n",
      "Requirement already satisfied: pyparsing!=3.0.5,>=2.0.2 in c:\\users\\voxmi\\anaconda3\\lib\\site-packages (from packaging->tensorflow) (3.0.4)\n"
     ]
    }
   ],
   "source": [
    "!pip install -U scikit-learn\n",
    "!pip install blackboxauditing\n",
    "%pip install scikit-learn\n",
    "!pip install tensorflow"
   ]
  },
  {
   "cell_type": "code",
   "execution_count": 2,
   "id": "90d4136a",
   "metadata": {},
   "outputs": [
    {
     "name": "stdout",
     "output_type": "stream",
     "text": [
      "Which Data Set did You Select? : Using Loan Approval set found here https://www.kaggle.com/datasets/granjithkumar/loan-approval-data-set?resource=download\n",
      "Which regulated domain does your dataset belong to? : The regulated domain is Credit\n",
      "How many observations are in the dataset? : There are 614 Observations\n",
      "How many variables in the dataset? : There are 13 Variables\n",
      "Which variables did you select as your dependent variables? : The dependent variable that i've chosen were Loan Amount and Loan_Status\n",
      "How many and which variables in the dataset are associated with a legally recognized protected class? : There are Two protected class, Sex (Equal Pay Act of 1963; Civil Rights Act of 1964, 1991) \n",
      "and Familial status (Civil Rights Act of 1968)\n"
     ]
    }
   ],
   "source": [
    "print(\"Which Data Set did You Select? : Using Loan Approval set found here https://www.kaggle.com/datasets/granjithkumar/loan-approval-data-set?resource=download\")\n",
    "print(\"Which regulated domain does your dataset belong to? : The regulated domain is Credit\")\n",
    "print(\"How many observations are in the dataset? : There are 614 Observations\")\n",
    "print(\"How many variables in the dataset? : There are 13 Variables\")\n",
    "print(\"Which variables did you select as your dependent variables? : The dependent variable that i've chosen were Loan Amount and Loan_Status\")\n",
    "print(\"How many and which variables in the dataset are associated with a legally recognized protected class? : There are Two protected class, Sex (Equal Pay Act of 1963; Civil Rights Act of 1964, 1991) \\nand Familial status (Civil Rights Act of 1968)\")"
   ]
  },
  {
   "cell_type": "markdown",
   "id": "dd92c66c",
   "metadata": {},
   "source": [
    "Table 2.1: Membership Category\n",
    "\n",
    "|Category| | |\n",
    "| --- | --- | --- |\n",
    "| Sex | Male | Female |\n",
    "| Familial Status | Married | Not Married |\n",
    "\n",
    "Table 2.2 Numerical Value\n",
    "\n",
    "|Dependent Variable| | | | | | | |\n",
    "| --- | --- | --- | | | | | |\n",
    "| Loan Amount | 0-100 | 101-200 | 201-300 | 301-400 | 500+ |\n",
    "| Loan Status | 0 (Yes) | 1 ( No) | ---   | ---     | ---  |"
   ]
  },
  {
   "cell_type": "code",
   "execution_count": 3,
   "id": "88e4efb6",
   "metadata": {},
   "outputs": [
    {
     "data": {
      "image/png": "[encoded data removed]",
      "text/plain": [
       "<Figure size 720x504 with 1 Axes>"
      ]
     },
     "metadata": {
      "needs_background": "light"
     },
     "output_type": "display_data"
    },
    {
     "data": {
      "image/png": "[encoded data removed]",
      "text/plain": [
       "<Figure size 720x504 with 1 Axes>"
      ]
     },
     "metadata": {
      "needs_background": "light"
     },
     "output_type": "display_data"
    },
    {
     "name": "stdout",
     "output_type": "stream",
     "text": [
      "   Loan_Status  Gender  Freq\n",
      "0            2    Male   278\n",
      "1            3    Male   116\n",
      "2            2  Female    54\n",
      "3            3  Female    32\n"
     ]
    },
    {
     "data": {
      "image/png": "[encoded data removed]",
      "text/plain": [
       "<Figure size 720x504 with 1 Axes>"
      ]
     },
     "metadata": {
      "needs_background": "light"
     },
     "output_type": "display_data"
    },
    {
     "data": {
      "image/png": "[encoded data removed]",
      "text/plain": [
       "<Figure size 720x504 with 1 Axes>"
      ]
     },
     "metadata": {
      "needs_background": "light"
     },
     "output_type": "display_data"
    },
    {
     "data": {
      "image/png": "[encoded data removed]",
      "text/plain": [
       "<Figure size 720x504 with 1 Axes>"
      ]
     },
     "metadata": {
      "needs_background": "light"
     },
     "output_type": "display_data"
    },
    {
     "data": {
      "image/png": "[encoded data removed]",
      "text/plain": [
       "<Figure size 720x504 with 1 Axes>"
      ]
     },
     "metadata": {
      "needs_background": "light"
     },
     "output_type": "display_data"
    },
    {
     "name": "stdout",
     "output_type": "stream",
     "text": [
      "   Loan_Status Married  Freq\n",
      "0            2     Yes   227\n",
      "1            2      No   105\n",
      "2            3     Yes    84\n",
      "3            3      No    64\n"
     ]
    },
    {
     "data": {
      "image/png": "[encoded data removed]",
      "text/plain": [
       "<Figure size 720x504 with 1 Axes>"
      ]
     },
     "metadata": {
      "needs_background": "light"
     },
     "output_type": "display_data"
    },
    {
     "data": {
      "image/png": "[encoded data removed]",
      "text/plain": [
       "<Figure size 720x504 with 1 Axes>"
      ]
     },
     "metadata": {
      "needs_background": "light"
     },
     "output_type": "display_data"
    }
   ],
   "source": [
    "import pandas as pd\n",
    "import collections\n",
    "import matplotlib.pyplot as plt\n",
    "import sklearn\n",
    "\n",
    "\n",
    "df = pd.read_csv('C:\\\\Users\\\\voxmi\\\\Downloads\\\\Loan_Train.csv')\n",
    "pd.set_option('display.max_rows', None, 'display.max_columns', None)\n",
    "df = df.dropna()\n",
    "\n",
    "df['Loan_Status']= df['Loan_Status'].replace([\"Y\"],2)\n",
    "df['Loan_Status']= df['Loan_Status'].replace(['N'],3)\n",
    "#print(df[['Gender']].value_counts())\n",
    "#print(df[['Married']].value_counts())\n",
    "\n",
    "#print(df.dtypes)\n",
    "loanData = df[['LoanAmount',\"Gender\"]].value_counts().reset_index(name=\"Freq\")\n",
    "loanApprove = df[['Loan_Status',\"Gender\"]].value_counts().reset_index(name=\"Freq\")\n",
    "\n",
    "male = collections.defaultdict(int)\n",
    "female = collections.defaultdict(int)\n",
    "#print(loanData)\n",
    "for k,v,x in zip(loanData[\"LoanAmount\"],loanData['Gender'],loanData['Freq']):\n",
    "    if v == 'Male':\n",
    "        if(k <= 100):\n",
    "            male[(\"0-100\")] += int(x)\n",
    "        elif k > 100 and k <= 200:\n",
    "            male[(\"101-200\")] += int(x)\n",
    "        elif k > 200 and k <= 300:\n",
    "            male[(\"201-300\")] += int(x)\n",
    "        elif k> 300 and k <= 400:\n",
    "            male[(\"301-400\")] += int(x)\n",
    "        else:\n",
    "            male[(\"500+\")] += int(x)\n",
    "    else:\n",
    "        if(k <= 100):\n",
    "            female[(\"0-100\")] += int(x)\n",
    "        elif k > 100 and k <= 200:\n",
    "            female[(\"101-200\")] += int(x)\n",
    "        elif k > 200 and k <= 300:\n",
    "            female[(\"201-300\")] += int(x)\n",
    "        elif k> 300 and k <= 400:\n",
    "            female[(\"301-400\")] += int(x)\n",
    "        else:\n",
    "            female[(\"500+\")] += int(x)\n",
    "\n",
    "#Male\n",
    "fig, ax = plt.subplots(figsize =(10, 7))\n",
    "temp = [j for i,j in male.items()]\n",
    "temp2 = [i for i,j in male.items()]\n",
    "ax.bar(temp2,temp)\n",
    "plt.title(\"Male Frequency vs Loan Amount\")\n",
    "plt.xlabel(\"Loan Amount\")\n",
    "plt.ylabel(\"Frequency\")\n",
    "plt.show()\n",
    "\n",
    "\n",
    "#Female\n",
    "fig, ax2 = plt.subplots(figsize =(10, 7))\n",
    "temp = [j for i,j in female.items()]\n",
    "temp2 = [i for i,j in female.items()]\n",
    "ax2.bar(temp2,temp)\n",
    "plt.title(\"Female Frequency vs Loan Amount\")\n",
    "plt.xlabel(\"Loan Amount\")\n",
    "plt.ylabel(\"Frequency\")\n",
    "plt.show()\n",
    "\n",
    "#Gender\n",
    "print(loanApprove)\n",
    "fig, ax = plt.subplots(figsize =(10, 7))\n",
    "ax.bar([2,3],[278,116],0.2)\n",
    "plt.title(\"Male Frequency vs Loan Status\")\n",
    "plt.xlabel(\"Loan Status\")\n",
    "plt.ylabel(\"Frequency\")\n",
    "plt.show()\n",
    "fig, ax2 = plt.subplots(figsize =(10, 7))\n",
    "ax2.bar([2,3],[54,32],0.2)\n",
    "plt.title(\"Female Frequency vs Loan Status\")\n",
    "plt.xlabel(\"Loan Status\")\n",
    "plt.ylabel(\"Frequency\")\n",
    "plt.show()\n",
    "\n",
    "#Married\n",
    "loanData = df[['LoanAmount',\"Married\"]].value_counts().reset_index(name=\"Freq\")\n",
    "loanApprove = df[['Loan_Status',\"Married\"]].value_counts().reset_index(name=\"Freq\")\n",
    "\n",
    "married = collections.defaultdict(int)\n",
    "nonmarried = collections.defaultdict(int)\n",
    "#print(loanData)\n",
    "for k,v,x in zip(loanData[\"LoanAmount\"],loanData['Married'],loanData['Freq']):\n",
    "    if v == 'Yes':\n",
    "        if(k <= 100):\n",
    "            married[(\"0-100\")] += int(x)\n",
    "        elif k > 100 and k <= 200:\n",
    "            married[(\"101-200\")] += int(x)\n",
    "        elif k > 200 and k <= 300:\n",
    "            married[(\"201-300\")] += int(x)\n",
    "        elif k> 300 and k <= 400:\n",
    "            married[(\"301-400\")] += int(x)\n",
    "        else:\n",
    "            married[(\"500+\")] += int(x)\n",
    "    else:\n",
    "        if(k <= 100):\n",
    "            nonmarried[(\"0-100\")] += int(x)\n",
    "        elif k > 100 and k <= 200:\n",
    "            nonmarried[(\"101-200\")] += int(x)\n",
    "        elif k > 200 and k <= 300:\n",
    "            nonmarried[(\"201-300\")] += int(x)\n",
    "        elif k> 300 and k <= 400:\n",
    "            nonmarried[(\"301-400\")] += int(x)\n",
    "        else:\n",
    "            nonmarried[(\"500+\")] += int(x)\n",
    "\n",
    "#Married\n",
    "fig, ax = plt.subplots(figsize =(10, 7))\n",
    "temp = [j for i,j in married.items()]\n",
    "temp2 = [i for i,j in married.items()]\n",
    "ax.bar(temp2,temp)\n",
    "plt.title(\"Married Frequency vs Loan Amount\")\n",
    "plt.xlabel(\"Loan Amount\")\n",
    "plt.ylabel(\"Frequency\")\n",
    "plt.show()\n",
    "\n",
    "\n",
    "#Not Married\n",
    "fig, ax2 = plt.subplots(figsize =(10, 7))\n",
    "temp = [j for i,j in nonmarried.items()]\n",
    "temp2 = [i for i,j in nonmarried.items()]\n",
    "ax2.bar(temp2,temp)\n",
    "plt.title(\"Not Married Frequency vs Loan Amount\")\n",
    "plt.xlabel(\"Loan Amount\")\n",
    "plt.ylabel(\"Frequency\")\n",
    "plt.show()\n",
    "\n",
    "#Married Status\n",
    "print(loanApprove)\n",
    "fig, ax = plt.subplots(figsize =(10, 7))\n",
    "ax.bar([2,3],[227,84],0.2)\n",
    "plt.title(\"Married Frequency vs Loan Status\")\n",
    "plt.xlabel(\"Loan Status\")\n",
    "plt.ylabel(\"Frequency\")\n",
    "plt.show()\n",
    "fig, ax2 = plt.subplots(figsize =(10, 7))\n",
    "ax2.bar([2,3],[105,64],0.2)\n",
    "plt.title(\"Non Married Frequency vs Loan Status\")\n",
    "plt.xlabel(\"Loan Status\")\n",
    "plt.ylabel(\"Frequency\")\n",
    "plt.show()"
   ]
  },
  {
   "cell_type": "markdown",
   "id": "4e924a96",
   "metadata": {},
   "source": [
    "Table 2.3 Computed Frequency\n",
    "\n",
    "|Category| Male| Female| Married | Not Married | \n",
    "| --- | --- | --- | | |\n",
    "| Sex | 394 | 86 | - | - | \n",
    "| Familial Status | - | - | 311 | 169 |"
   ]
  },
  {
   "cell_type": "markdown",
   "id": "592c3cf8",
   "metadata": {},
   "source": [
    "table 3.1 priv and unpriv\n",
    "\n",
    "|Category| privileged | unprivileged|\n",
    "| --- | --- | --- |\n",
    "| Sex | Male | Female |\n",
    "| Familial Status | Married | Not Married |"
   ]
  },
  {
   "cell_type": "code",
   "execution_count": 4,
   "id": "12928077",
   "metadata": {
    "scrolled": true
   },
   "outputs": [
    {
     "ename": "ImportError",
     "evalue": "\n`load_boston` has been removed from scikit-learn since version 1.2.\n\nThe Boston housing prices dataset has an ethical problem: as\ninvestigated in [1], the authors of this dataset engineered a\nnon-invertible variable \"B\" assuming that racial self-segregation had a\npositive impact on house prices [2]. Furthermore the goal of the\nresearch that led to the creation of this dataset was to study the\nimpact of air quality but it did not give adequate demonstration of the\nvalidity of this assumption.\n\nThe scikit-learn maintainers therefore strongly discourage the use of\nthis dataset unless the purpose of the code is to study and educate\nabout ethical issues in data science and machine learning.\n\nIn this special case, you can fetch the dataset from the original\nsource::\n\n    import pandas as pd\n    import numpy as np\n\n    data_url = \"http://lib.stat.cmu.edu/datasets/boston\"\n    raw_df = pd.read_csv(data_url, sep=\"\\s+\", skiprows=22, header=None)\n    data = np.hstack([raw_df.values[::2, :], raw_df.values[1::2, :2]])\n    target = raw_df.values[1::2, 2]\n\nAlternative datasets include the California housing dataset and the\nAmes housing dataset. You can load the datasets as follows::\n\n    from sklearn.datasets import fetch_california_housing\n    housing = fetch_california_housing()\n\nfor the California housing dataset and::\n\n    from sklearn.datasets import fetch_openml\n    housing = fetch_openml(name=\"house_prices\", as_frame=True)\n\nfor the Ames housing dataset.\n\n[1] M Carlisle.\n\"Racist data destruction?\"\n<https://medium.com/@docintangible/racist-data-destruction-113e3eff54a8>\n\n[2] Harrison Jr, David, and Daniel L. Rubinfeld.\n\"Hedonic housing prices and the demand for clean air.\"\nJournal of environmental economics and management 5.1 (1978): 81-102.\n<https://www.researchgate.net/publication/4974606_Hedonic_housing_prices_and_the_demand_for_clean_air>\n",
     "output_type": "error",
     "traceback": [
      "\u001b[1;31m---------------------------------------------------------------------------\u001b[0m",
      "\u001b[1;31mImportError\u001b[0m                               Traceback (most recent call last)",
      "Input \u001b[1;32mIn [4]\u001b[0m, in \u001b[0;36m<cell line: 68>\u001b[1;34m()\u001b[0m\n\u001b[0;32m     66\u001b[0m \u001b[38;5;28;01mimport\u001b[39;00m \u001b[38;5;21;01maif360\u001b[39;00m\n\u001b[0;32m     67\u001b[0m \u001b[38;5;28;01mimport\u001b[39;00m \u001b[38;5;21;01msklearn\u001b[39;00m\n\u001b[1;32m---> 68\u001b[0m \u001b[38;5;28;01mfrom\u001b[39;00m \u001b[38;5;21;01maif360\u001b[39;00m\u001b[38;5;21;01m.\u001b[39;00m\u001b[38;5;21;01malgorithms\u001b[39;00m\u001b[38;5;21;01m.\u001b[39;00m\u001b[38;5;21;01mpreprocessing\u001b[39;00m \u001b[38;5;28;01mimport\u001b[39;00m DisparateImpactRemover\n\u001b[0;32m     69\u001b[0m binaryLabelDataset \u001b[38;5;241m=\u001b[39m aif360\u001b[38;5;241m.\u001b[39mdatasets\u001b[38;5;241m.\u001b[39mBinaryLabelDataset(\n\u001b[0;32m     70\u001b[0m     favorable_label\u001b[38;5;241m=\u001b[39m\u001b[38;5;241m2\u001b[39m,\n\u001b[0;32m     71\u001b[0m     unfavorable_label\u001b[38;5;241m=\u001b[39m\u001b[38;5;241m3\u001b[39m,\n\u001b[0;32m     72\u001b[0m     df\u001b[38;5;241m=\u001b[39mtransformData,\n\u001b[0;32m     73\u001b[0m     label_names\u001b[38;5;241m=\u001b[39m[\u001b[38;5;124m'\u001b[39m\u001b[38;5;124mLoan_Status\u001b[39m\u001b[38;5;124m'\u001b[39m],\n\u001b[0;32m     74\u001b[0m     protected_attribute_names\u001b[38;5;241m=\u001b[39m[\u001b[38;5;124m'\u001b[39m\u001b[38;5;124mGender\u001b[39m\u001b[38;5;124m'\u001b[39m])\n\u001b[0;32m     76\u001b[0m di \u001b[38;5;241m=\u001b[39m DisparateImpactRemover(repair_level \u001b[38;5;241m=\u001b[39m \u001b[38;5;241m1.0\u001b[39m)\n",
      "File \u001b[1;32m~\\anaconda3\\lib\\site-packages\\aif360\\algorithms\\__init__.py:1\u001b[0m, in \u001b[0;36m<module>\u001b[1;34m\u001b[0m\n\u001b[1;32m----> 1\u001b[0m \u001b[38;5;28;01mfrom\u001b[39;00m \u001b[38;5;21;01maif360\u001b[39;00m\u001b[38;5;21;01m.\u001b[39;00m\u001b[38;5;21;01malgorithms\u001b[39;00m\u001b[38;5;21;01m.\u001b[39;00m\u001b[38;5;21;01mtransformer\u001b[39;00m \u001b[38;5;28;01mimport\u001b[39;00m Transformer, addmetadata\n",
      "File \u001b[1;32m~\\anaconda3\\lib\\site-packages\\aif360\\algorithms\\transformer.py:4\u001b[0m, in \u001b[0;36m<module>\u001b[1;34m\u001b[0m\n\u001b[0;32m      1\u001b[0m \u001b[38;5;28;01mfrom\u001b[39;00m \u001b[38;5;21;01mabc\u001b[39;00m \u001b[38;5;28;01mimport\u001b[39;00m abstractmethod\n\u001b[0;32m      2\u001b[0m \u001b[38;5;28;01mfrom\u001b[39;00m \u001b[38;5;21;01mfunctools\u001b[39;00m \u001b[38;5;28;01mimport\u001b[39;00m wraps\n\u001b[1;32m----> 4\u001b[0m \u001b[38;5;28;01mfrom\u001b[39;00m \u001b[38;5;21;01maif360\u001b[39;00m\u001b[38;5;21;01m.\u001b[39;00m\u001b[38;5;21;01mdatasets\u001b[39;00m \u001b[38;5;28;01mimport\u001b[39;00m Dataset\n\u001b[0;32m      5\u001b[0m \u001b[38;5;28;01mfrom\u001b[39;00m \u001b[38;5;21;01maif360\u001b[39;00m\u001b[38;5;21;01m.\u001b[39;00m\u001b[38;5;21;01mdecorating_metaclass\u001b[39;00m \u001b[38;5;28;01mimport\u001b[39;00m ApplyDecorator\n\u001b[0;32m      8\u001b[0m \u001b[38;5;66;03m# TODO: Use sklearn.exceptions.NotFittedError instead?\u001b[39;00m\n",
      "File \u001b[1;32m~\\anaconda3\\lib\\site-packages\\aif360\\datasets\\__init__.py:13\u001b[0m, in \u001b[0;36m<module>\u001b[1;34m\u001b[0m\n\u001b[0;32m     11\u001b[0m \u001b[38;5;28;01mfrom\u001b[39;00m \u001b[38;5;21;01maif360\u001b[39;00m\u001b[38;5;21;01m.\u001b[39;00m\u001b[38;5;21;01mdatasets\u001b[39;00m\u001b[38;5;21;01m.\u001b[39;00m\u001b[38;5;21;01mmeps_dataset_panel21_fy2016\u001b[39;00m \u001b[38;5;28;01mimport\u001b[39;00m MEPSDataset21\n\u001b[0;32m     12\u001b[0m \u001b[38;5;28;01mfrom\u001b[39;00m \u001b[38;5;21;01maif360\u001b[39;00m\u001b[38;5;21;01m.\u001b[39;00m\u001b[38;5;21;01mdatasets\u001b[39;00m\u001b[38;5;21;01m.\u001b[39;00m\u001b[38;5;21;01mregression_dataset\u001b[39;00m \u001b[38;5;28;01mimport\u001b[39;00m RegressionDataset\n\u001b[1;32m---> 13\u001b[0m \u001b[38;5;28;01mfrom\u001b[39;00m \u001b[38;5;21;01maif360\u001b[39;00m\u001b[38;5;21;01m.\u001b[39;00m\u001b[38;5;21;01mdatasets\u001b[39;00m\u001b[38;5;21;01m.\u001b[39;00m\u001b[38;5;21;01mlaw_school_gpa_dataset\u001b[39;00m \u001b[38;5;28;01mimport\u001b[39;00m LawSchoolGPADataset\n",
      "File \u001b[1;32m~\\anaconda3\\lib\\site-packages\\aif360\\datasets\\law_school_gpa_dataset.py:4\u001b[0m, in \u001b[0;36m<module>\u001b[1;34m\u001b[0m\n\u001b[0;32m      2\u001b[0m \u001b[38;5;28;01mimport\u001b[39;00m \u001b[38;5;21;01mpandas\u001b[39;00m \u001b[38;5;28;01mas\u001b[39;00m \u001b[38;5;21;01mpd\u001b[39;00m\n\u001b[0;32m      3\u001b[0m \u001b[38;5;28;01mfrom\u001b[39;00m \u001b[38;5;21;01maif360\u001b[39;00m\u001b[38;5;21;01m.\u001b[39;00m\u001b[38;5;21;01mdatasets\u001b[39;00m \u001b[38;5;28;01mimport\u001b[39;00m RegressionDataset\n\u001b[1;32m----> 4\u001b[0m \u001b[38;5;28;01mimport\u001b[39;00m \u001b[38;5;21;01mtempeh\u001b[39;00m\u001b[38;5;21;01m.\u001b[39;00m\u001b[38;5;21;01mconfigurations\u001b[39;00m \u001b[38;5;28;01mas\u001b[39;00m \u001b[38;5;21;01mtc\u001b[39;00m\n\u001b[0;32m      7\u001b[0m \u001b[38;5;28;01mclass\u001b[39;00m \u001b[38;5;21;01mLawSchoolGPADataset\u001b[39;00m(RegressionDataset):\n\u001b[0;32m      8\u001b[0m     \u001b[38;5;124;03m\"\"\"Law School GPA dataset.\u001b[39;00m\n\u001b[0;32m      9\u001b[0m \n\u001b[0;32m     10\u001b[0m \u001b[38;5;124;03m    See https://github.com/microsoft/tempeh for details.\u001b[39;00m\n\u001b[0;32m     11\u001b[0m \u001b[38;5;124;03m    \"\"\"\u001b[39;00m\n",
      "File \u001b[1;32m~\\anaconda3\\lib\\site-packages\\tempeh\\configurations.py:6\u001b[0m, in \u001b[0;36m<module>\u001b[1;34m\u001b[0m\n\u001b[0;32m      1\u001b[0m \u001b[38;5;66;03m# Copyright (c) Microsoft Corporation. All rights reserved.\u001b[39;00m\n\u001b[0;32m      2\u001b[0m \u001b[38;5;66;03m# Licensed under the MIT License.\u001b[39;00m\n\u001b[0;32m      4\u001b[0m \u001b[38;5;124;03m\"\"\"Holds all the datasets and models that are automatically enqueued.\"\"\"\u001b[39;00m\n\u001b[1;32m----> 6\u001b[0m \u001b[38;5;28;01mfrom\u001b[39;00m \u001b[38;5;21;01mtempeh\u001b[39;00m\u001b[38;5;21;01m.\u001b[39;00m\u001b[38;5;21;01mdatasets\u001b[39;00m \u001b[38;5;28;01mimport\u001b[39;00m SKLearnPerformanceDatasetWrapper, UCIPerformanceDatasetWrapper, \\\n\u001b[0;32m      7\u001b[0m     BlobPerformanceDatasetWrapper, CompasPerformanceDatasetWrapper, \\\n\u001b[0;32m      8\u001b[0m     SEAPHEPerformanceDatasetWrapper\n\u001b[0;32m      9\u001b[0m \u001b[38;5;28;01mfrom\u001b[39;00m \u001b[38;5;21;01mtempeh\u001b[39;00m\u001b[38;5;21;01m.\u001b[39;00m\u001b[38;5;21;01mmodels\u001b[39;00m \u001b[38;5;28;01mimport\u001b[39;00m RBMSVMModelWrapper, LinearSVMModelWrapper, LogisticModelWrapper, \\\n\u001b[0;32m     10\u001b[0m     RidgeModelWrapper, DecisionTreeClassifierWrapper, RandomForestClassifierWrapper, \\\n\u001b[0;32m     11\u001b[0m     RandomForestRegressorWrapper, PytorchMulticlassClassifierWrapper, \\\n\u001b[0;32m     12\u001b[0m     PytorchBinaryClassifierWrapper, PytorchRegressionWrapper, XGBoostClassifierWrapper, \\\n\u001b[0;32m     13\u001b[0m     XGBoostRegressorWrapper, LightGBMClassifierWrapper, LightGBMRegressorWrapper, \\\n\u001b[0;32m     14\u001b[0m     KerasMulticlassClassifierWrapper, KerasBinaryClassifierWrapper, KerasRegressionWrapper\n\u001b[0;32m     15\u001b[0m \u001b[38;5;28;01mfrom\u001b[39;00m \u001b[38;5;21;01mtempeh\u001b[39;00m\u001b[38;5;21;01m.\u001b[39;00m\u001b[38;5;21;01mconstants\u001b[39;00m \u001b[38;5;28;01mimport\u001b[39;00m DatasetSizes\n",
      "File \u001b[1;32m~\\anaconda3\\lib\\site-packages\\tempeh\\datasets\\__init__.py:4\u001b[0m, in \u001b[0;36m<module>\u001b[1;34m\u001b[0m\n\u001b[0;32m      1\u001b[0m \u001b[38;5;66;03m# Copyright (c) Microsoft Corporation. All rights reserved.\u001b[39;00m\n\u001b[0;32m      2\u001b[0m \u001b[38;5;66;03m# Licensed under the MIT License.\u001b[39;00m\n\u001b[1;32m----> 4\u001b[0m \u001b[38;5;28;01mfrom\u001b[39;00m \u001b[38;5;21;01m.\u001b[39;00m\u001b[38;5;21;01msk_datasets\u001b[39;00m \u001b[38;5;28;01mimport\u001b[39;00m SKLearnPerformanceDatasetWrapper\n\u001b[0;32m      5\u001b[0m \u001b[38;5;28;01mfrom\u001b[39;00m \u001b[38;5;21;01m.\u001b[39;00m\u001b[38;5;21;01muci_datasets\u001b[39;00m \u001b[38;5;28;01mimport\u001b[39;00m UCIPerformanceDatasetWrapper\n\u001b[0;32m      6\u001b[0m \u001b[38;5;28;01mfrom\u001b[39;00m \u001b[38;5;21;01m.\u001b[39;00m\u001b[38;5;21;01mblob_datasets\u001b[39;00m \u001b[38;5;28;01mimport\u001b[39;00m BlobPerformanceDatasetWrapper\n",
      "File \u001b[1;32m~\\anaconda3\\lib\\site-packages\\tempeh\\datasets\\sk_datasets.py:12\u001b[0m, in \u001b[0;36m<module>\u001b[1;34m\u001b[0m\n\u001b[0;32m      7\u001b[0m \u001b[38;5;28;01mfrom\u001b[39;00m \u001b[38;5;21;01m.\u001b[39;00m\u001b[38;5;21;01mbase_wrapper\u001b[39;00m \u001b[38;5;28;01mimport\u001b[39;00m BasePerformanceDatasetWrapper\n\u001b[0;32m      9\u001b[0m \u001b[38;5;28;01mfrom\u001b[39;00m \u001b[38;5;21;01mtempeh\u001b[39;00m\u001b[38;5;21;01m.\u001b[39;00m\u001b[38;5;21;01mconstants\u001b[39;00m \u001b[38;5;28;01mimport\u001b[39;00m FeatureType, Tasks, DataTypes, SKLearnDatasets, ClassVars  \u001b[38;5;66;03m# noqa\u001b[39;00m\n\u001b[1;32m---> 12\u001b[0m \u001b[38;5;28;01mclass\u001b[39;00m \u001b[38;5;21;01mSKLearnPerformanceDatasetWrapper\u001b[39;00m(BasePerformanceDatasetWrapper):\n\u001b[0;32m     13\u001b[0m     \u001b[38;5;124;03m\"\"\"sklearn Datasets\"\"\"\u001b[39;00m\n\u001b[0;32m     15\u001b[0m     dataset_map \u001b[38;5;241m=\u001b[39m {\n\u001b[0;32m     16\u001b[0m         SKLearnDatasets\u001b[38;5;241m.\u001b[39mBOSTON: (datasets\u001b[38;5;241m.\u001b[39mload_boston, [FeatureType\u001b[38;5;241m.\u001b[39mCONTINUOUS] \u001b[38;5;241m*\u001b[39m \u001b[38;5;241m3\u001b[39m \u001b[38;5;241m+\u001b[39m [FeatureType\u001b[38;5;241m.\u001b[39mNOMINAL] \u001b[38;5;241m+\u001b[39m [FeatureType\u001b[38;5;241m.\u001b[39mCONTINUOUS] \u001b[38;5;241m*\u001b[39m \u001b[38;5;241m10\u001b[39m),  \u001b[38;5;66;03m# noqa: E501\u001b[39;00m\n\u001b[0;32m     17\u001b[0m         SKLearnDatasets\u001b[38;5;241m.\u001b[39mIRIS: (datasets\u001b[38;5;241m.\u001b[39mload_iris, [FeatureType\u001b[38;5;241m.\u001b[39mCONTINUOUS] \u001b[38;5;241m*\u001b[39m \u001b[38;5;241m4\u001b[39m \u001b[38;5;241m+\u001b[39m [FeatureType\u001b[38;5;241m.\u001b[39mNOMINAL]),  \u001b[38;5;66;03m# noqa: E501\u001b[39;00m\n\u001b[1;32m   (...)\u001b[0m\n\u001b[0;32m     21\u001b[0m         SKLearnDatasets\u001b[38;5;241m.\u001b[39mCANCER: (datasets\u001b[38;5;241m.\u001b[39mload_breast_cancer, [FeatureType\u001b[38;5;241m.\u001b[39mCONTINUOUS] \u001b[38;5;241m*\u001b[39m \u001b[38;5;241m30\u001b[39m \u001b[38;5;241m+\u001b[39m [FeatureType\u001b[38;5;241m.\u001b[39mNOMINAL])  \u001b[38;5;66;03m# noqa: E501\u001b[39;00m\n\u001b[0;32m     22\u001b[0m     }\n",
      "File \u001b[1;32m~\\anaconda3\\lib\\site-packages\\tempeh\\datasets\\sk_datasets.py:16\u001b[0m, in \u001b[0;36mSKLearnPerformanceDatasetWrapper\u001b[1;34m()\u001b[0m\n\u001b[0;32m     12\u001b[0m \u001b[38;5;28;01mclass\u001b[39;00m \u001b[38;5;21;01mSKLearnPerformanceDatasetWrapper\u001b[39;00m(BasePerformanceDatasetWrapper):\n\u001b[0;32m     13\u001b[0m     \u001b[38;5;124;03m\"\"\"sklearn Datasets\"\"\"\u001b[39;00m\n\u001b[0;32m     15\u001b[0m     dataset_map \u001b[38;5;241m=\u001b[39m {\n\u001b[1;32m---> 16\u001b[0m         SKLearnDatasets\u001b[38;5;241m.\u001b[39mBOSTON: (\u001b[43mdatasets\u001b[49m\u001b[38;5;241;43m.\u001b[39;49m\u001b[43mload_boston\u001b[49m, [FeatureType\u001b[38;5;241m.\u001b[39mCONTINUOUS] \u001b[38;5;241m*\u001b[39m \u001b[38;5;241m3\u001b[39m \u001b[38;5;241m+\u001b[39m [FeatureType\u001b[38;5;241m.\u001b[39mNOMINAL] \u001b[38;5;241m+\u001b[39m [FeatureType\u001b[38;5;241m.\u001b[39mCONTINUOUS] \u001b[38;5;241m*\u001b[39m \u001b[38;5;241m10\u001b[39m),  \u001b[38;5;66;03m# noqa: E501\u001b[39;00m\n\u001b[0;32m     17\u001b[0m         SKLearnDatasets\u001b[38;5;241m.\u001b[39mIRIS: (datasets\u001b[38;5;241m.\u001b[39mload_iris, [FeatureType\u001b[38;5;241m.\u001b[39mCONTINUOUS] \u001b[38;5;241m*\u001b[39m \u001b[38;5;241m4\u001b[39m \u001b[38;5;241m+\u001b[39m [FeatureType\u001b[38;5;241m.\u001b[39mNOMINAL]),  \u001b[38;5;66;03m# noqa: E501\u001b[39;00m\n\u001b[0;32m     18\u001b[0m         SKLearnDatasets\u001b[38;5;241m.\u001b[39mDIABETES: (datasets\u001b[38;5;241m.\u001b[39mload_diabetes, [FeatureType\u001b[38;5;241m.\u001b[39mCONTINUOUS] \u001b[38;5;241m*\u001b[39m \u001b[38;5;241m11\u001b[39m),\n\u001b[0;32m     19\u001b[0m         SKLearnDatasets\u001b[38;5;241m.\u001b[39mDIGITS: (datasets\u001b[38;5;241m.\u001b[39mload_digits, [FeatureType\u001b[38;5;241m.\u001b[39mCONTINUOUS] \u001b[38;5;241m*\u001b[39m \u001b[38;5;241m64\u001b[39m \u001b[38;5;241m+\u001b[39m [FeatureType\u001b[38;5;241m.\u001b[39mNOMINAL]),  \u001b[38;5;66;03m# noqa: E501\u001b[39;00m\n\u001b[0;32m     20\u001b[0m         SKLearnDatasets\u001b[38;5;241m.\u001b[39mWINE: (datasets\u001b[38;5;241m.\u001b[39mload_wine, [FeatureType\u001b[38;5;241m.\u001b[39mCONTINUOUS] \u001b[38;5;241m*\u001b[39m \u001b[38;5;241m13\u001b[39m \u001b[38;5;241m+\u001b[39m [FeatureType\u001b[38;5;241m.\u001b[39mNOMINAL]),  \u001b[38;5;66;03m# noqa: E501\u001b[39;00m\n\u001b[0;32m     21\u001b[0m         SKLearnDatasets\u001b[38;5;241m.\u001b[39mCANCER: (datasets\u001b[38;5;241m.\u001b[39mload_breast_cancer, [FeatureType\u001b[38;5;241m.\u001b[39mCONTINUOUS] \u001b[38;5;241m*\u001b[39m \u001b[38;5;241m30\u001b[39m \u001b[38;5;241m+\u001b[39m [FeatureType\u001b[38;5;241m.\u001b[39mNOMINAL])  \u001b[38;5;66;03m# noqa: E501\u001b[39;00m\n\u001b[0;32m     22\u001b[0m     }\n\u001b[0;32m     23\u001b[0m     metadata_map \u001b[38;5;241m=\u001b[39m {\n\u001b[0;32m     24\u001b[0m         SKLearnDatasets\u001b[38;5;241m.\u001b[39mBOSTON: (Tasks\u001b[38;5;241m.\u001b[39mREGRESSION, DataTypes\u001b[38;5;241m.\u001b[39mTABULAR, (\u001b[38;5;241m506\u001b[39m, \u001b[38;5;241m13\u001b[39m)),\n\u001b[0;32m     25\u001b[0m         SKLearnDatasets\u001b[38;5;241m.\u001b[39mIRIS: (Tasks\u001b[38;5;241m.\u001b[39mMULTICLASS, DataTypes\u001b[38;5;241m.\u001b[39mTABULAR, (\u001b[38;5;241m150\u001b[39m, \u001b[38;5;241m4\u001b[39m)),\n\u001b[1;32m   (...)\u001b[0m\n\u001b[0;32m     29\u001b[0m         SKLearnDatasets\u001b[38;5;241m.\u001b[39mCANCER: (Tasks\u001b[38;5;241m.\u001b[39mBINARY, DataTypes\u001b[38;5;241m.\u001b[39mTABULAR, (\u001b[38;5;241m569\u001b[39m, \u001b[38;5;241m30\u001b[39m))\n\u001b[0;32m     30\u001b[0m     }\n\u001b[0;32m     32\u001b[0m     load_function \u001b[38;5;241m=\u001b[39m \u001b[38;5;28;01mNone\u001b[39;00m\n",
      "File \u001b[1;32m~\\anaconda3\\lib\\site-packages\\sklearn\\datasets\\__init__.py:156\u001b[0m, in \u001b[0;36m__getattr__\u001b[1;34m(name)\u001b[0m\n\u001b[0;32m    105\u001b[0m \u001b[38;5;28;01mif\u001b[39;00m name \u001b[38;5;241m==\u001b[39m \u001b[38;5;124m\"\u001b[39m\u001b[38;5;124mload_boston\u001b[39m\u001b[38;5;124m\"\u001b[39m:\n\u001b[0;32m    106\u001b[0m     msg \u001b[38;5;241m=\u001b[39m textwrap\u001b[38;5;241m.\u001b[39mdedent(\n\u001b[0;32m    107\u001b[0m         \u001b[38;5;124;03m\"\"\"\u001b[39;00m\n\u001b[0;32m    108\u001b[0m \u001b[38;5;124;03m        `load_boston` has been removed from scikit-learn since version 1.2.\u001b[39;00m\n\u001b[1;32m   (...)\u001b[0m\n\u001b[0;32m    154\u001b[0m \u001b[38;5;124;03m        \"\"\"\u001b[39;00m\n\u001b[0;32m    155\u001b[0m     )\n\u001b[1;32m--> 156\u001b[0m     \u001b[38;5;28;01mraise\u001b[39;00m \u001b[38;5;167;01mImportError\u001b[39;00m(msg)\n\u001b[0;32m    157\u001b[0m \u001b[38;5;28;01mtry\u001b[39;00m:\n\u001b[0;32m    158\u001b[0m     \u001b[38;5;28;01mreturn\u001b[39;00m \u001b[38;5;28mglobals\u001b[39m()[name]\n",
      "\u001b[1;31mImportError\u001b[0m: \n`load_boston` has been removed from scikit-learn since version 1.2.\n\nThe Boston housing prices dataset has an ethical problem: as\ninvestigated in [1], the authors of this dataset engineered a\nnon-invertible variable \"B\" assuming that racial self-segregation had a\npositive impact on house prices [2]. Furthermore the goal of the\nresearch that led to the creation of this dataset was to study the\nimpact of air quality but it did not give adequate demonstration of the\nvalidity of this assumption.\n\nThe scikit-learn maintainers therefore strongly discourage the use of\nthis dataset unless the purpose of the code is to study and educate\nabout ethical issues in data science and machine learning.\n\nIn this special case, you can fetch the dataset from the original\nsource::\n\n    import pandas as pd\n    import numpy as np\n\n    data_url = \"http://lib.stat.cmu.edu/datasets/boston\"\n    raw_df = pd.read_csv(data_url, sep=\"\\s+\", skiprows=22, header=None)\n    data = np.hstack([raw_df.values[::2, :], raw_df.values[1::2, :2]])\n    target = raw_df.values[1::2, 2]\n\nAlternative datasets include the California housing dataset and the\nAmes housing dataset. You can load the datasets as follows::\n\n    from sklearn.datasets import fetch_california_housing\n    housing = fetch_california_housing()\n\nfor the California housing dataset and::\n\n    from sklearn.datasets import fetch_openml\n    housing = fetch_openml(name=\"house_prices\", as_frame=True)\n\nfor the Ames housing dataset.\n\n[1] M Carlisle.\n\"Racist data destruction?\"\n<https://medium.com/@docintangible/racist-data-destruction-113e3eff54a8>\n\n[2] Harrison Jr, David, and Daniel L. Rubinfeld.\n\"Hedonic housing prices and the demand for clean air.\"\nJournal of environmental economics and management 5.1 (1978): 81-102.\n<https://www.researchgate.net/publication/4974606_Hedonic_housing_prices_and_the_demand_for_clean_air>\n"
     ]
    }
   ],
   "source": [
    "#Question 3\n",
    "loanData = df[['LoanAmount',\"Gender\",\"Loan_Status\"]]\n",
    "male_prob = collections.defaultdict(int)\n",
    "female_prob = collections.defaultdict(int)\n",
    "for k,v,x in zip(loanData[\"LoanAmount\"],loanData['Gender'],loanData['Loan_Status']):\n",
    "    if v == 'Male':\n",
    "        if x == 2:\n",
    "            male_prob[2] += 1\n",
    "        else:\n",
    "            male_prob[3] += 1\n",
    "    else:\n",
    "        if x == 2:\n",
    "            female_prob[2] += 1\n",
    "        else:\n",
    "            female_prob[3] += 1\n",
    "# print(len(loanData))\n",
    "# print(male_prob)\n",
    "# print(female_prob)\n",
    "#Disparate \n",
    "DI = female_prob[2]/(female_prob[2] + female_prob[3]) / (male_prob[2]/(male_prob[2] + male_prob[3]))\n",
    "#print(DI)\n",
    "#Statistical Parity\n",
    "StatPar = female_prob[2]/(female_prob[2] + female_prob[3]) - ((male_prob[2]/(male_prob[2] + male_prob[3])))\n",
    "#print(StatPar)\n",
    "\n",
    "\n",
    "loanData = df[['LoanAmount',\"Married\",\"Loan_Status\"]]\n",
    "marr_prob = collections.defaultdict(int)\n",
    "unmarr_prob = collections.defaultdict(int)\n",
    "for k,v,x in zip(loanData[\"LoanAmount\"],loanData['Married'],loanData['Loan_Status']):\n",
    "    if v == 'Yes':\n",
    "        if x == 2:\n",
    "            marr_prob[2] += 1\n",
    "        else:\n",
    "            marr_prob[3] += 1\n",
    "    else:\n",
    "        if x == 2:\n",
    "            unmarr_prob[2] += 1\n",
    "        else:\n",
    "            unmarr_prob[3] += 1\n",
    "\n",
    "\n",
    "#Disparate \n",
    "DI = unmarr_prob[2]/(unmarr_prob[2] + unmarr_prob[3]) / (marr_prob[2]/(marr_prob[2] + marr_prob[3]))\n",
    "#print(DI)\n",
    "#Statistical Parity\n",
    "StatPar = unmarr_prob[2]/(unmarr_prob[2] + unmarr_prob[3]) - ((marr_prob[2]/(marr_prob[2] + marr_prob[3])))\n",
    "#print(StatPar)\n",
    "\n",
    "\n",
    "#Diparate Remover Own Formula\n",
    "df.Loan_ID =pd.to_numeric(df.Loan_ID, errors ='coerce').fillna(0).astype('int')\n",
    "df.Dependents =pd.to_numeric(df.Dependents, errors ='coerce').fillna(0).astype('int')\n",
    "df.Education =pd.to_numeric(df.Education, errors ='coerce').fillna(0).astype('int')\n",
    "df.Self_Employed =pd.to_numeric(df.Self_Employed, errors ='coerce').fillna(0).astype('int')\n",
    "df.Property_Area =pd.to_numeric(df.Property_Area, errors ='coerce').fillna(0).astype('int')\n",
    "\n",
    "\n",
    "transformData = df.copy()\n",
    "transformData['Gender']= transformData['Gender'].replace([\"Male\"],0)\n",
    "transformData['Gender']= transformData['Gender'].replace(['Female'],1)\n",
    "transformData['Married']= transformData['Married'].replace([\"Yes\"],0)\n",
    "transformData['Married']= transformData['Married'].replace(['No'],1)\n",
    "\n",
    "#Transform Data via AI360 DisparateImpactRemove\n",
    "import aif360\n",
    "import sklearn\n",
    "from aif360.algorithms.preprocessing import DisparateImpactRemover\n",
    "binaryLabelDataset = aif360.datasets.BinaryLabelDataset(\n",
    "    favorable_label=2,\n",
    "    unfavorable_label=3,\n",
    "    df=transformData,\n",
    "    label_names=['Loan_Status'],\n",
    "    protected_attribute_names=['Gender'])\n",
    "\n",
    "di = DisparateImpactRemover(repair_level = 1.0)\n",
    "dataset_transf_train = di.fit_transform(binaryLabelDataset)\n",
    "transformed = dataset_transf_train.convert_to_dataframe()[0]\n",
    "\n",
    "#print(transformed)\n",
    "loanData = transformed[['LoanAmount',\"Gender\",\"Loan_Status\"]]\n",
    "male_prob = collections.defaultdict(int)\n",
    "female_prob = collections.defaultdict(int)\n",
    "for k,v,x in zip(loanData[\"LoanAmount\"],loanData['Gender'],loanData['Loan_Status']):\n",
    "    if v == 0:\n",
    "        if x == 2:\n",
    "            male_prob[2] += 1\n",
    "        else:\n",
    "            male_prob[3] += 1\n",
    "    else:\n",
    "        if x == 2:\n",
    "            female_prob[2] += 1\n",
    "        else:\n",
    "            female_prob[3] += 1\n",
    " #Disparate \n",
    "DI = female_prob[2]/(female_prob[2] + female_prob[3]) / (male_prob[2]/(male_prob[2] + male_prob[3]))\n",
    "#print(DI)\n",
    "#Statistical Parity\n",
    "StatPar = female_prob[2]/(female_prob[2] + female_prob[3]) - ((male_prob[2]/(male_prob[2] + male_prob[3])))\n",
    "#print(StatPar)           \n",
    "\n",
    "loanData = transformed[['LoanAmount',\"Married\",\"Loan_Status\"]]\n",
    "t_Mar = collections.defaultdict(int)\n",
    "t_UMar = collections.defaultdict(int)\n",
    "for k,v,x in zip(loanData[\"LoanAmount\"],loanData['Married'],loanData['Loan_Status']):\n",
    "    if v == 0:\n",
    "        if x == 2:\n",
    "            t_Mar[2] += 1\n",
    "        else:\n",
    "            t_Mar[3] += 1\n",
    "    else:\n",
    "        if x == 2:\n",
    "            t_UMar[2] += 1\n",
    "        else:\n",
    "            t_UMar[3] += 1\n",
    "\n",
    "#Disparate \n",
    "#DI = t_UMar[2]/(t_UMar[2] + unmarr_prob[3]) / (t_Mar[2]/(t_Mar[2] + t_Mar[3]))\n",
    "#print(DI)\n",
    "#Statistical Parity\n",
    "StatPar = t_UMar[2]/(t_UMar[2] + t_UMar[3]) - ((t_Mar[2]/(t_Mar[2] + t_Mar[3])))\n",
    "#print(StatPar)\n",
    "\n",
    "\n",
    "##### For Some reason even though i ran the AI360 DIRemover it still produced the same results for the DI and Stastical parity\n",
    "##Not sure if its because im doing it wrong or its suppose to be like that??"
   ]
  },
  {
   "cell_type": "markdown",
   "id": "f4cd3de7",
   "metadata": {},
   "source": [
    "table 3.2 Di and Statistical Parity of Loan Amount + Loan Status\n",
    "\n",
    "\n",
    "|Category| DI | Statistical Parity|\n",
    "| --- | --- | --- |\n",
    "| Sex (unpriv(female)/priv(male)) | 0.8899113267525515 | -0.07767677960099162 |\n",
    "| Familial Status (unpriv(Not Married)/Priv(Married)) | 0.8512108020749158 | -0.10860176182956305 |"
   ]
  },
  {
   "cell_type": "markdown",
   "id": "5d3bfa05",
   "metadata": {},
   "source": [
    "table 3.4 Di and Statistical Parity + DI Remover of Loan Amount + Loan Status\n",
    "\n",
    "|Category| DI | Statistical Parity|\n",
    "| --- | --- | --- |\n",
    "| Sex (unpriv(female)/priv(male)) | 0.8899113267525515 | -0.07767677960099162 |\n",
    "| Familial Status (unpriv(Not Married)/Priv(Married)) | 0.8512108020749158 | -0.10860176182956305 |"
   ]
  },
  {
   "cell_type": "code",
   "execution_count": null,
   "id": "5b5fec2a",
   "metadata": {},
   "outputs": [],
   "source": [
    "#Question 4\n",
    "\n",
    "df['Married']= df['Married'].replace([\"Yes\"],1)\n",
    "df['Married']= df['Married'].replace(['No'],0)\n",
    "df_split = df[0:len(df):3]\n",
    "df_train = pd.concat([df, df_split]).drop_duplicates(keep=False)\n",
    "from sklearn.naive_bayes import GaussianNB\n",
    "GNBclf = GaussianNB()\n",
    "ls = [i for i in df_train['Loan_Status']]\n",
    "m = [i for i in df_train['Married']]\n",
    "trainer = list(zip(ls,m))\n",
    "model = GNBclf.fit(trainer,df_train['Loan_Status'])\n",
    "preds = GNBclf.predict(trainer)\n",
    "marr_prob = collections.defaultdict(int)\n",
    "unmarr_prob = collections.defaultdict(int)\n",
    "\n",
    "for k,v in zip(m,preds):\n",
    "    if k == 0:\n",
    "        if v == 2:\n",
    "            marr_prob[2] += 1\n",
    "        else: \n",
    "            marr_prob[3] += 1\n",
    "    else:\n",
    "        if x == 2:\n",
    "            unmarr_prob[2] += 1\n",
    "        else:\n",
    "            unmarr_prob[3] += 1\n",
    "\n",
    "\n",
    "#Disparate \n",
    "DI = unmarr_prob[2]/(unmarr_prob[2] + unmarr_prob[3]) / (marr_prob[2]/(marr_prob[2] + marr_prob[3]))\n",
    "#print(DI)\n",
    "#Statistical Parity\n",
    "StatPar = unmarr_prob[2]/(unmarr_prob[2] + unmarr_prob[3]) - ((marr_prob[2]/(marr_prob[2] + marr_prob[3])))\n",
    "#print(StatPar)\n",
    "\n",
    "\n",
    "\n",
    "\n",
    "#Transformed Data Set\n",
    "df_split = df[0:len(transformed):3]\n",
    "df_train = pd.concat([transformed, df_split]).drop_duplicates(keep=False)\n",
    "from sklearn.naive_bayes import GaussianNB\n",
    "GNBclf = GaussianNB()\n",
    "ls = [i for i in df_train['Loan_Status']]\n",
    "m = [i for i in df_train['Married']]\n",
    "trainer = list(zip(ls,m))\n",
    "model = GNBclf.fit(trainer,df_train['Loan_Status'])\n",
    "preds = GNBclf.predict(trainer)\n",
    "marr_prob = collections.defaultdict(int)\n",
    "unmarr_prob = collections.defaultdict(int)\n",
    "\n",
    "for k,v in zip(m,preds):\n",
    "    if k == 0:\n",
    "        if v == 2:\n",
    "            marr_prob[2] += 1\n",
    "        else: \n",
    "            marr_prob[3] += 1\n",
    "    else:\n",
    "        if x == 2:\n",
    "            unmarr_prob[2] += 1\n",
    "        else:\n",
    "            unmarr_prob[3] += 1\n",
    "\n",
    "\n",
    "#Disparate \n",
    "DI = unmarr_prob[2]/(unmarr_prob[2] + unmarr_prob[3]) / (marr_prob[2]/(marr_prob[2] + marr_prob[3]))\n",
    "#print(DI)\n",
    "#Statistical Parity\n",
    "StatPar = unmarr_prob[2]/(unmarr_prob[2] + unmarr_prob[3]) - ((marr_prob[2]/(marr_prob[2] + marr_prob[3])))\n",
    "#print(StatPar)"
   ]
  },
  {
   "cell_type": "markdown",
   "id": "da6562cf",
   "metadata": {},
   "source": [
    "table 4.4.1 Di and Statistical Parity of original + classifer\n",
    "\n",
    "|Category| DI | Statistical Parity|\n",
    "| --- | --- | --- |\n",
    "| Familial Status (unpriv(Not Married)/Priv(Married)) | 0.0 | -0.5803571428571429 |"
   ]
  },
  {
   "cell_type": "markdown",
   "id": "799bf9bb",
   "metadata": {},
   "source": [
    "table 4.4.2 Di and Statistical Parity of Transformed Data set + classifer\n",
    "\n",
    "|Category| DI | Statistical Parity|\n",
    "| --- | --- | --- |\n",
    "| Familial Status (unpriv(Not Married)/Priv(Married)) | 0.0 | -0.7240437158469946 |"
   ]
  },
  {
   "cell_type": "markdown",
   "id": "cdf05ea3",
   "metadata": {},
   "source": [
    "#Question 4\n",
    "\n",
    "1) the privileged/unprivileged groups for this section i used was the Familial Status, with the unpriviledgfed group being the unmarried and the priviliged group being married\\\n",
    "2) The dependent variable chosen was the Loan Status\\\n",
    "3) Refer to table 4.4.1 and 4.4.2 for the quantitiative results\\\n",
    "4) As seen on the table below the difference between step 4 and step 3.4 were very negative. The Di became 0.0 for the classifier steps 4, compared to the regular no classifier of 0.85 -> indicating that there was a -0.85 change in the DI value; While for the Statistical Parity the values were -0.5 and -0.72 respecitively founded in step 4. but compared to step 3.4 of -0.1 there were heavy negative changes of -.4 and -.62."
   ]
  },
  {
   "cell_type": "markdown",
   "id": "05642f86",
   "metadata": {},
   "source": [
    "table 4.4.3 Difference between transformed and classifier DI and Stat Parity\n",
    "\n",
    "|Category| DI | Statistical Parity|\n",
    "| --- | --- | --- |\n",
    "| Familial Status (unpriv(Not Married)/Priv(Married)) | -0.8512108020749158 | -0.4840437158469946 |"
   ]
  },
  {
   "cell_type": "markdown",
   "id": "8df5dba7",
   "metadata": {},
   "source": [
    "table 4.4.4 Difference between transformed and classifier DI and Stat Parity\n",
    "\n",
    "|Category| DI | Statistical Parity|\n",
    "| --- | --- | --- |\n",
    "| Familial Status (unpriv(Not Married)/Priv(Married)) | -0.8512108020749158 | -0.6240437158469946 |"
   ]
  },
  {
   "cell_type": "markdown",
   "id": "6ce411db",
   "metadata": {},
   "source": []
  },
  {
   "cell_type": "code",
   "execution_count": null,
   "id": "b29e76da",
   "metadata": {},
   "outputs": [],
   "source": []
  }
 ],
 "metadata": {
  "kernelspec": {
   "display_name": "Python 3 (ipykernel)",
   "language": "python",
   "name": "python3"
  },
  "language_info": {
   "codemirror_mode": {
    "name": "ipython",
    "version": 3
   },
   "file_extension": ".py",
   "mimetype": "text/x-python",
   "name": "python",
   "nbconvert_exporter": "python",
   "pygments_lexer": "ipython3",
   "version": "3.9.12"
  }
 },
 "nbformat": 4,
 "nbformat_minor": 5
}
